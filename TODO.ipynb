{
 "cells": [
  {
   "cell_type": "markdown",
   "source": [
    "# TODO"
   ],
   "metadata": {
    "collapsed": false,
    "pycharm": {
     "name": "#%% md\n"
    }
   }
  },
  {
   "cell_type": "markdown",
   "source": [
    "Features:\n",
    "- Chalkboard gag\n",
    "- Guest speakers\n",
    "- Directors/Showrunners\n",
    "- Total words spoken / number of lines per character\n",
    "- Catchphrase count per character\n",
    "- Cultural references\n",
    "- Self references\n",
    "- Goofs\n",
    "- Errors"
   ],
   "metadata": {
    "collapsed": false,
    "pycharm": {
     "name": "#%% md\n"
    }
   }
  },
  {
   "cell_type": "markdown",
   "source": [
    "Data exploration + plots:\n",
    "1. Which guest speaker is the funniest? (Jan)\n",
    "2. How does the speaking time change over seasons? (Jan)\n",
    "3. How does the age of viewers influence the rating? (Michael)\n",
    "4. Which episode features influence rating the most? (Nikola)"
   ],
   "metadata": {
    "collapsed": false,
    "pycharm": {
     "name": "#%% md\n"
    }
   }
  },
  {
   "cell_type": "markdown",
   "source": [
    "Regression:\n",
    "1. Predicting rating (linear regression, decision trees?)"
   ],
   "metadata": {
    "collapsed": false,
    "pycharm": {
     "name": "#%% md\n"
    }
   }
  },
  {
   "cell_type": "markdown",
   "source": [
    "Explainable stuff:\n",
    "1. Eigenvectors scree plots - which features explain the most variance\n",
    "2. Explainable decision trees?"
   ],
   "metadata": {
    "collapsed": false,
    "pycharm": {
     "name": "#%% md\n"
    }
   }
  }
 ],
 "metadata": {
  "kernelspec": {
   "display_name": "Python 3",
   "language": "python",
   "name": "python3"
  },
  "language_info": {
   "codemirror_mode": {
    "name": "ipython",
    "version": 2
   },
   "file_extension": ".py",
   "mimetype": "text/x-python",
   "name": "python",
   "nbconvert_exporter": "python",
   "pygments_lexer": "ipython2",
   "version": "2.7.6"
  }
 },
 "nbformat": 4,
 "nbformat_minor": 0
}