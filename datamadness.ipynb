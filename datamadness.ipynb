{
 "cells": [
  {
   "cell_type": "markdown",
   "source": [
    "# DataMadness 2023: Ultimate Simpsons Guide\n",
    "\n",
    "By Jan Grapenthin, Nikola Prianikov, Michael Balzer"
   ],
   "metadata": {
    "collapsed": false,
    "pycharm": {
     "name": "#%% md\n"
    }
   }
  },
  {
   "cell_type": "markdown",
   "source": [
    "## Part 0: Motivation"
   ],
   "metadata": {
    "collapsed": false,
    "pycharm": {
     "name": "#%% md\n"
    }
   }
  },
  {
   "cell_type": "markdown",
   "source": [
    "## Part 1: Data retrieving and Scrapping\n",
    "\n",
    "TODO:\n",
    "1. IMDB ratings per episode for age/gender e.g.: https://www.imdb.com/title/tt0701122/ratings/?ref_=tt_ov_rt\n",
    "    - look for episode titles here: https://www.imdb.com/title/tt0096697/episodes?season=1\n",
    "2. Episode features from fandom wiki e.g., https://simpsons.fandom.com/wiki/Some_Enchanted_Evening\n",
    "    - look for things inside <asdie role='region'> blob\n",
    "3. Episode insight from fandom wiki e.g., https://simpsons.fandom.com/wiki/Some_Enchanted_Evening/References\n",
    "    - look for Trivia, Cultural References, Goofs, etc...\n",
    "\n",
    "### What features do we want to add\n",
    "\n",
    "From IMDB:\n",
    "* Ratings by demographics per episode (apprx. 600 episodes)\n",
    "\n",
    "From fandom wiki 'region' blob of episode:\n",
    "* main_character(s)\n",
    "* blackboardText\n",
    "* couchGag\n",
    "* specialGuestVoices\n",
    "* Show Runner\n",
    "* Written By\n",
    "* Directed By\n",
    "\n",
    "From fandom wiki References page of each episode\n",
    "* Cultural references\n",
    "* Trivia\n",
    "* Goofs\n",
    "* Previous Episode References - a bit more detailed here e.g., from which season/episode was the reference made\n",
    "* Continuity (wtf is this but we can probably keep it)"
   ],
   "metadata": {
    "collapsed": false,
    "pycharm": {
     "name": "#%% md\n"
    }
   }
  },
  {
   "cell_type": "markdown",
   "source": [
    "## Part 2: Exploratory Data Analysis\n",
    "\n",
    "Everyone plays around with data..."
   ],
   "metadata": {
    "collapsed": false,
    "pycharm": {
     "name": "#%% md\n"
    }
   }
  },
  {
   "cell_type": "markdown",
   "source": [
    "## Part 3: Regressing the ratings, Key variables that explain rating, etc."
   ],
   "metadata": {
    "collapsed": false,
    "pycharm": {
     "name": "#%% md\n"
    }
   }
  },
  {
   "cell_type": "markdown",
   "source": [
    "## Part 4: Cool insights e.g., TF-IDF on script lines per character"
   ],
   "metadata": {
    "collapsed": false,
    "pycharm": {
     "name": "#%% md\n"
    }
   }
  },
  {
   "cell_type": "markdown",
   "source": [
    "## Part 5: Ethical considerations"
   ],
   "metadata": {
    "collapsed": false,
    "pycharm": {
     "name": "#%% md\n"
    }
   }
  },
  {
   "cell_type": "markdown",
   "source": [
    "## Conclusions"
   ],
   "metadata": {
    "collapsed": false,
    "pycharm": {
     "name": "#%% md\n"
    }
   }
  }
 ],
 "metadata": {
  "kernelspec": {
   "display_name": "Python 3",
   "language": "python",
   "name": "python3"
  },
  "language_info": {
   "codemirror_mode": {
    "name": "ipython",
    "version": 2
   },
   "file_extension": ".py",
   "mimetype": "text/x-python",
   "name": "python",
   "nbconvert_exporter": "python",
   "pygments_lexer": "ipython2",
   "version": "2.7.6"
  }
 },
 "nbformat": 4,
 "nbformat_minor": 0
}
