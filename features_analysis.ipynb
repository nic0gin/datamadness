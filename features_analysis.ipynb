{
 "cells": [
  {
   "cell_type": "code",
   "execution_count": 211,
   "metadata": {
    "collapsed": true,
    "pycharm": {
     "name": "#%%\n"
    }
   },
   "outputs": [],
   "source": [
    "import pandas as pd\n",
    "import numpy as np\n",
    "import seaborn as sns\n",
    "from matplotlib import pyplot as plt\n",
    "\n",
    "\n",
    "%load_ext autoreload\n",
    "%autoreload 2"
   ]
  },
  {
   "cell_type": "code",
   "execution_count": 212,
   "outputs": [],
   "source": [
    "features_df = pd.read_csv('Datasets/scraped/features.csv')\n",
    "episodes_df = pd.read_csv('Datasets/data-society-the-simpsons-by-the-data/simpsons_episodes.csv')\n",
    "voting_df = pd.read_csv('Datasets/scraped/voting_demographics.csv')\n",
    "\n",
    "voting_df['season'] = voting_df['season'].astype(int)\n",
    "voting_df['episode'] = voting_df['episode'].astype(int)\n",
    "voting_df = voting_df.sort_values(by=['season', 'episode'])\n",
    "voting_df.index += 1\n",
    "features_df.index +=1\n",
    "analysis_df = pd.concat([features_df.head(600), voting_df.head(600)], axis=1)\n",
    "analysis_df['season'] = analysis_df['season'].astype(int)\n",
    "analysis_df['episode'] = analysis_df['episode'].astype(int)"
   ],
   "metadata": {
    "collapsed": false,
    "pycharm": {
     "name": "#%%\n"
    }
   }
  },
  {
   "cell_type": "code",
   "execution_count": 213,
   "outputs": [],
   "source": [
    "def smooth(scalars, weight):\n",
    "    last = scalars[0]\n",
    "    smoothed = list()\n",
    "    for point in scalars:\n",
    "        smoothed_val = last * weight + (1 - weight) * point\n",
    "        smoothed.append(smoothed_val)\n",
    "        last = smoothed_val\n",
    "\n",
    "    return smoothed\n",
    "\n",
    "def normalize(data, column):\n",
    "    return (data[column]-data[column].mean())/data[column].std()"
   ],
   "metadata": {
    "collapsed": false,
    "pycharm": {
     "name": "#%%\n"
    }
   }
  },
  {
   "cell_type": "code",
   "execution_count": 214,
   "outputs": [],
   "source": [
    "analysis_df.describe()"
   ],
   "metadata": {
    "collapsed": false,
    "pycharm": {
     "name": "#%%\n"
    }
   }
  },
  {
   "cell_type": "code",
   "execution_count": 215,
   "outputs": [],
   "source": [
    "rating_cols = ['total_rating', '<18_rating', '18-29_rating', '30-44_rating', '45+_rating']\n",
    "ref_cols = ['cult_refs_count', 'self_refs_count', 'goofs_count', 'errors_count']"
   ],
   "metadata": {
    "collapsed": false,
    "pycharm": {
     "name": "#%%\n"
    }
   }
  },
  {
   "cell_type": "code",
   "execution_count": 216,
   "outputs": [],
   "source": [
    "def ratings_refs_graph(data, col, refs):\n",
    "    y1 = smooth(list(normalize(data, refs)), 0.9)\n",
    "    y2 = smooth(list(normalize(data, col)), 0.9)\n",
    "    plt.plot(y1, label='Total rating')\n",
    "    plt.plot(y2, label='Cult. refs.')\n",
    "    plt.legend()\n",
    "    plt.ylabel('Normalized scale')\n",
    "    plt.xlabel('Episodes')\n",
    "    plt.title(col)\n",
    "    plt.show()"
   ],
   "metadata": {
    "collapsed": false,
    "pycharm": {
     "name": "#%%\n"
    }
   }
  },
  {
   "cell_type": "code",
   "execution_count": 217,
   "outputs": [],
   "source": [
    "for col in rating_cols:\n",
    "    ratings_refs_graph(analysis_df, col, 'cult_refs_count')"
   ],
   "metadata": {
    "collapsed": false,
    "pycharm": {
     "name": "#%%\n"
    }
   }
  },
  {
   "cell_type": "code",
   "execution_count": 218,
   "outputs": [],
   "source": [
    "season_granular_mean = analysis_df.groupby(by='season').mean().add_prefix('mean_')\n",
    "season_granular_sum = analysis_df.groupby(by='season').sum().add_prefix('sum_')\n",
    "season_granular_analysis = pd.concat([season_granular_mean, season_granular_sum], axis=1)"
   ],
   "metadata": {
    "collapsed": false,
    "pycharm": {
     "name": "#%%\n"
    }
   }
  },
  {
   "cell_type": "code",
   "execution_count": 219,
   "outputs": [],
   "source": [
    "ratings_refs_graph(season_granular_analysis, 'mean_total_rating', 'mean_cult_refs_count')"
   ],
   "metadata": {
    "collapsed": false,
    "pycharm": {
     "name": "#%%\n"
    }
   }
  },
  {
   "cell_type": "code",
   "execution_count": 220,
   "outputs": [],
   "source": [
    "ratings_refs_graph(season_granular_analysis, 'mean_total_rating', 'sum_cult_refs_count')"
   ],
   "metadata": {
    "collapsed": false,
    "pycharm": {
     "name": "#%%\n"
    }
   }
  },
  {
   "cell_type": "code",
   "execution_count": 232,
   "outputs": [],
   "source": [
    "plt.plot(10)"
   ],
   "metadata": {
    "collapsed": false,
    "pycharm": {
     "name": "#%%\n"
    }
   }
  },
  {
   "cell_type": "code",
   "execution_count": 231,
   "outputs": [],
   "source": [
    "plt.plot(smooth(list(normalize(season_granular_analysis, 'sum_goofs_count')), 0.5))\n",
    "plt.plot(smooth(list(normalize(season_granular_analysis, 'mean_total_rating')), 0.5))\n",
    "plt.show()"
   ],
   "metadata": {
    "collapsed": false,
    "pycharm": {
     "name": "#%%\n"
    }
   }
  },
  {
   "cell_type": "code",
   "execution_count": 230,
   "outputs": [],
   "source": [
    "plt.plot(smooth(list(normalize(season_granular_analysis, 'sum_self_refs_count')), 0.5))\n",
    "plt.plot(smooth(list(normalize(season_granular_analysis, 'mean_total_rating')), 0.5))"
   ],
   "metadata": {
    "collapsed": false,
    "pycharm": {
     "name": "#%%\n"
    }
   }
  },
  {
   "cell_type": "code",
   "execution_count": 228,
   "outputs": [],
   "source": [
    "for season in analysis_df['season'].unique():\n",
    "    test_df = analysis_df.loc[analysis_df['season']==season].reset_index().reset_index()\n",
    "    test_df['level_0'] = (test_df['level_0'] - test_df['level_0'].min()) / (test_df['level_0'].max() - test_df['level_0'].min())\n",
    "    test_df = test_df.set_index('level_0')\n",
    "    #plt.plot(smooth(test_df['self_refs_count'], 0.3))\n",
    "    plt.plot((test_df['self_refs_count']), label=season)\n",
    "plt.legend()\n",
    "plt.show()"
   ],
   "metadata": {
    "collapsed": false,
    "pycharm": {
     "name": "#%%\n"
    }
   }
  },
  {
   "cell_type": "code",
   "execution_count": 229,
   "outputs": [],
   "source": [
    "season_refs_list = []\n",
    "for season in analysis_df['season'].unique():\n",
    "    test_df = analysis_df.loc[analysis_df['season']==season].reset_index().reset_index()\n",
    "    test_df['level_0'] = (test_df['level_0'] - test_df['level_0'].min()) / (test_df['level_0'].max() - test_df['level_0'].min())\n",
    "    test_df = test_df.set_index('level_0')\n",
    "    season_refs_list.append(test_df)"
   ],
   "metadata": {
    "collapsed": false,
    "pycharm": {
     "name": "#%%\n"
    }
   }
  },
  {
   "cell_type": "code",
   "execution_count": 225,
   "outputs": [],
   "source": [
    "season_refs_df = pd.concat(season_refs_list,axis=0)"
   ],
   "metadata": {
    "collapsed": false,
    "pycharm": {
     "name": "#%%\n"
    }
   }
  },
  {
   "cell_type": "code",
   "execution_count": 226,
   "outputs": [],
   "source": [
    "season_refs_df.head()"
   ],
   "metadata": {
    "collapsed": false,
    "pycharm": {
     "name": "#%%\n"
    }
   }
  },
  {
   "cell_type": "code",
   "execution_count": 227,
   "outputs": [],
   "source": [
    "plt.plot(smooth(list(season_refs_df['cult_refs_count']),0.99))"
   ],
   "metadata": {
    "collapsed": false,
    "pycharm": {
     "name": "#%%\n"
    }
   }
  }
 ],
 "metadata": {
  "kernelspec": {
   "display_name": "Python 3",
   "language": "python",
   "name": "python3"
  },
  "language_info": {
   "codemirror_mode": {
    "name": "ipython",
    "version": 2
   },
   "file_extension": ".py",
   "mimetype": "text/x-python",
   "name": "python",
   "nbconvert_exporter": "python",
   "pygments_lexer": "ipython2",
   "version": "2.7.6"
  }
 },
 "nbformat": 4,
 "nbformat_minor": 0
}