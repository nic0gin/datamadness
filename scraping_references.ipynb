{
 "cells": [
  {
   "cell_type": "code",
   "execution_count": 1,
   "outputs": [],
   "source": [
    "from bs4 import BeautifulSoup\n",
    "import requests\n",
    "import pandas as pd\n",
    "import lxml"
   ],
   "metadata": {
    "collapsed": false,
    "pycharm": {
     "name": "#%%\n"
    }
   }
  },
  {
   "cell_type": "code",
   "execution_count": 2,
   "outputs": [],
   "source": [
    "max_seasons = 34\n",
    "season_page_url_base = 'https://simpsons.fandom.com/wiki/Season_'\n",
    "season_page_urls = [season_page_url_base+str(i+1) for i in range(max_seasons)]"
   ],
   "metadata": {
    "collapsed": false,
    "pycharm": {
     "name": "#%%\n"
    }
   }
  },
  {
   "cell_type": "code",
   "execution_count": 111,
   "outputs": [],
   "source": [
    "def get_links_by_season(season_id: int, verbose=False):\n",
    "    req = requests.get(season_page_urls[season_id])\n",
    "    if verbose:\n",
    "        print(f\"Request terminated with status code {req.status_code}\")\n",
    "        print(f\"Response encoded with {req.encoding}\")\n",
    "    season_page = BeautifulSoup(req.text, 'html.parser')\n",
    "\n",
    "    episodes_links = {\"title\" : [], \"url\": [], \"episode\": [], \"season\": []}\n",
    "\n",
    "    tables = season_page('table')\n",
    "    rows = tables[4].find_all('tr')\n",
    "    episode_num = (len(rows)-1)\n",
    "    for i in range(episode_num-1):\n",
    "        col = rows[i].find_all('td')\n",
    "        if len(col) == 8:\n",
    "            link = col[2].find_all('a', href=True)\n",
    "            episodes_links['title'].append(link[0].text)\n",
    "            episodes_links['url'].append('https://simpsons.fandom.com'+link[0]['href'])\n",
    "            episodes_links['season'].append(season_id+1)\n",
    "            episodes_links['episode'].append(i//2+1)\n",
    "\n",
    "    return episodes_links"
   ],
   "metadata": {
    "collapsed": false,
    "pycharm": {
     "name": "#%%\n"
    }
   }
  },
  {
   "cell_type": "code",
   "execution_count": 114,
   "outputs": [
    {
     "data": {
      "text/plain": "                               title  \\\n0  Simpsons Roasting on an Open Fire   \n1                    Bart the Genius   \n2                    Homer's Odyssey   \n3      There's No Disgrace Like Home   \n4                   Bart the General   \n5                       Moaning Lisa   \n6           The Call of the Simpsons   \n7                  The Telltale Head   \n8              Life on the Fast Lane   \n9                  Homer's Night Out   \n\n                                                 url  episode  season  \n0  https://simpsons.fandom.com/wiki/Simpsons_Roas...        1       1  \n1   https://simpsons.fandom.com/wiki/Bart_the_Genius        2       1  \n2  https://simpsons.fandom.com/wiki/Homer%27s_Ody...        3       1  \n3  https://simpsons.fandom.com/wiki/There%27s_No_...        4       1  \n4  https://simpsons.fandom.com/wiki/Bart_the_General        5       1  \n5      https://simpsons.fandom.com/wiki/Moaning_Lisa        6       1  \n6  https://simpsons.fandom.com/wiki/The_Call_of_t...        7       1  \n7  https://simpsons.fandom.com/wiki/The_Telltale_...        8       1  \n8  https://simpsons.fandom.com/wiki/Life_on_the_F...        9       1  \n9  https://simpsons.fandom.com/wiki/Homer%27s_Nig...       10       1  ",
      "text/html": "<div>\n<style scoped>\n    .dataframe tbody tr th:only-of-type {\n        vertical-align: middle;\n    }\n\n    .dataframe tbody tr th {\n        vertical-align: top;\n    }\n\n    .dataframe thead th {\n        text-align: right;\n    }\n</style>\n<table border=\"1\" class=\"dataframe\">\n  <thead>\n    <tr style=\"text-align: right;\">\n      <th></th>\n      <th>title</th>\n      <th>url</th>\n      <th>episode</th>\n      <th>season</th>\n    </tr>\n  </thead>\n  <tbody>\n    <tr>\n      <th>0</th>\n      <td>Simpsons Roasting on an Open Fire</td>\n      <td>https://simpsons.fandom.com/wiki/Simpsons_Roas...</td>\n      <td>1</td>\n      <td>1</td>\n    </tr>\n    <tr>\n      <th>1</th>\n      <td>Bart the Genius</td>\n      <td>https://simpsons.fandom.com/wiki/Bart_the_Genius</td>\n      <td>2</td>\n      <td>1</td>\n    </tr>\n    <tr>\n      <th>2</th>\n      <td>Homer's Odyssey</td>\n      <td>https://simpsons.fandom.com/wiki/Homer%27s_Ody...</td>\n      <td>3</td>\n      <td>1</td>\n    </tr>\n    <tr>\n      <th>3</th>\n      <td>There's No Disgrace Like Home</td>\n      <td>https://simpsons.fandom.com/wiki/There%27s_No_...</td>\n      <td>4</td>\n      <td>1</td>\n    </tr>\n    <tr>\n      <th>4</th>\n      <td>Bart the General</td>\n      <td>https://simpsons.fandom.com/wiki/Bart_the_General</td>\n      <td>5</td>\n      <td>1</td>\n    </tr>\n    <tr>\n      <th>5</th>\n      <td>Moaning Lisa</td>\n      <td>https://simpsons.fandom.com/wiki/Moaning_Lisa</td>\n      <td>6</td>\n      <td>1</td>\n    </tr>\n    <tr>\n      <th>6</th>\n      <td>The Call of the Simpsons</td>\n      <td>https://simpsons.fandom.com/wiki/The_Call_of_t...</td>\n      <td>7</td>\n      <td>1</td>\n    </tr>\n    <tr>\n      <th>7</th>\n      <td>The Telltale Head</td>\n      <td>https://simpsons.fandom.com/wiki/The_Telltale_...</td>\n      <td>8</td>\n      <td>1</td>\n    </tr>\n    <tr>\n      <th>8</th>\n      <td>Life on the Fast Lane</td>\n      <td>https://simpsons.fandom.com/wiki/Life_on_the_F...</td>\n      <td>9</td>\n      <td>1</td>\n    </tr>\n    <tr>\n      <th>9</th>\n      <td>Homer's Night Out</td>\n      <td>https://simpsons.fandom.com/wiki/Homer%27s_Nig...</td>\n      <td>10</td>\n      <td>1</td>\n    </tr>\n  </tbody>\n</table>\n</div>"
     },
     "execution_count": 114,
     "metadata": {},
     "output_type": "execute_result"
    }
   ],
   "source": [
    "get_links_by_season(0)\n",
    "links_dict = [get_links_by_season(i) for i in range(max_seasons)]\n",
    "links_df = pd.DataFrame(links_dict[0])\n",
    "links_df.head(10)"
   ],
   "metadata": {
    "collapsed": false,
    "pycharm": {
     "name": "#%%\n"
    }
   }
  },
  {
   "cell_type": "code",
   "execution_count": 93,
   "outputs": [
    {
     "name": "stdout",
     "output_type": "stream",
     "text": [
      "Request terminated with status code 200\n",
      "Response encoded with UTF-8\n"
     ]
    }
   ],
   "source": [
    "req = requests.get('https://www.imdb.com/title/tt0096697/episodes?season=1')\n",
    "print(f\"Request terminated with status code {req.status_code}\")\n",
    "print(f\"Response encoded with {req.encoding}\")"
   ],
   "metadata": {
    "collapsed": false,
    "pycharm": {
     "name": "#%%\n"
    }
   }
  },
  {
   "cell_type": "code",
   "execution_count": 5,
   "metadata": {
    "collapsed": true,
    "pycharm": {
     "name": "#%%\n"
    }
   },
   "outputs": [
    {
     "name": "stdout",
     "output_type": "stream",
     "text": [
      "Request terminated with status code 200\n",
      "Response encoded with UTF-8\n"
     ]
    }
   ],
   "source": [
    "from bs4 import BeautifulSoup\n",
    "import requests\n",
    "import pandas as pd\n",
    "#this time we use the \"requests\" library from PyPI, which has the typical GET and POST functions\n",
    "url = \"https://en.wikipedia.org/wiki/List_of_FIFA_World_Cup_finals\"\n",
    "req = requests.get(url)\n",
    "print(f\"Request terminated with status code {req.status_code}\")\n",
    "print(f\"Response encoded with {req.encoding}\")\n",
    "# as before, we can add the HTML to our soup\n",
    "fifa_soup = BeautifulSoup(req.text, 'html.parser')"
   ]
  }
 ],
 "metadata": {
  "kernelspec": {
   "display_name": "Python 3",
   "language": "python",
   "name": "python3"
  },
  "language_info": {
   "codemirror_mode": {
    "name": "ipython",
    "version": 2
   },
   "file_extension": ".py",
   "mimetype": "text/x-python",
   "name": "python",
   "nbconvert_exporter": "python",
   "pygments_lexer": "ipython2",
   "version": "2.7.6"
  }
 },
 "nbformat": 4,
 "nbformat_minor": 0
}