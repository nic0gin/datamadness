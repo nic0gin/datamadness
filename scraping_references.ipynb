{
 "cells": [
  {
   "cell_type": "code",
   "execution_count": 1,
   "outputs": [],
   "source": [
    "from bs4 import BeautifulSoup\n",
    "import requests\n",
    "import pandas as pd\n",
    "import numpy as np\n",
    "\n",
    "%load_ext autoreload\n",
    "%autoreload 2"
   ],
   "metadata": {
    "collapsed": false,
    "pycharm": {
     "name": "#%%\n"
    }
   }
  },
  {
   "cell_type": "code",
   "execution_count": 47,
   "outputs": [],
   "source": [
    "links_df_original = pd.read_csv('simpsons_fandom_wiki_links.csv')"
   ],
   "metadata": {
    "collapsed": false,
    "pycharm": {
     "name": "#%%\n"
    }
   }
  },
  {
   "cell_type": "code",
   "execution_count": 48,
   "outputs": [
    {
     "data": {
      "text/plain": "                                title  \\\n1   Simpsons Roasting on an Open Fire   \n2                     Bart the Genius   \n3                     Homer's Odyssey   \n4       There's No Disgrace Like Home   \n5                    Bart the General   \n6                        Moaning Lisa   \n7            The Call of the Simpsons   \n8                   The Telltale Head   \n9               Life on the Fast Lane   \n10                  Homer's Night Out   \n\n                                                  url  episode  season  \n1   https://simpsons.fandom.com/wiki/Simpsons_Roas...        1       1  \n2    https://simpsons.fandom.com/wiki/Bart_the_Genius        2       1  \n3   https://simpsons.fandom.com/wiki/Homer%27s_Ody...        3       1  \n4   https://simpsons.fandom.com/wiki/There%27s_No_...        4       1  \n5   https://simpsons.fandom.com/wiki/Bart_the_General        5       1  \n6       https://simpsons.fandom.com/wiki/Moaning_Lisa        6       1  \n7   https://simpsons.fandom.com/wiki/The_Call_of_t...        7       1  \n8   https://simpsons.fandom.com/wiki/The_Telltale_...        8       1  \n9   https://simpsons.fandom.com/wiki/Life_on_the_F...        9       1  \n10  https://simpsons.fandom.com/wiki/Homer%27s_Nig...       10       1  ",
      "text/html": "<div>\n<style scoped>\n    .dataframe tbody tr th:only-of-type {\n        vertical-align: middle;\n    }\n\n    .dataframe tbody tr th {\n        vertical-align: top;\n    }\n\n    .dataframe thead th {\n        text-align: right;\n    }\n</style>\n<table border=\"1\" class=\"dataframe\">\n  <thead>\n    <tr style=\"text-align: right;\">\n      <th></th>\n      <th>title</th>\n      <th>url</th>\n      <th>episode</th>\n      <th>season</th>\n    </tr>\n  </thead>\n  <tbody>\n    <tr>\n      <th>1</th>\n      <td>Simpsons Roasting on an Open Fire</td>\n      <td>https://simpsons.fandom.com/wiki/Simpsons_Roas...</td>\n      <td>1</td>\n      <td>1</td>\n    </tr>\n    <tr>\n      <th>2</th>\n      <td>Bart the Genius</td>\n      <td>https://simpsons.fandom.com/wiki/Bart_the_Genius</td>\n      <td>2</td>\n      <td>1</td>\n    </tr>\n    <tr>\n      <th>3</th>\n      <td>Homer's Odyssey</td>\n      <td>https://simpsons.fandom.com/wiki/Homer%27s_Ody...</td>\n      <td>3</td>\n      <td>1</td>\n    </tr>\n    <tr>\n      <th>4</th>\n      <td>There's No Disgrace Like Home</td>\n      <td>https://simpsons.fandom.com/wiki/There%27s_No_...</td>\n      <td>4</td>\n      <td>1</td>\n    </tr>\n    <tr>\n      <th>5</th>\n      <td>Bart the General</td>\n      <td>https://simpsons.fandom.com/wiki/Bart_the_General</td>\n      <td>5</td>\n      <td>1</td>\n    </tr>\n    <tr>\n      <th>6</th>\n      <td>Moaning Lisa</td>\n      <td>https://simpsons.fandom.com/wiki/Moaning_Lisa</td>\n      <td>6</td>\n      <td>1</td>\n    </tr>\n    <tr>\n      <th>7</th>\n      <td>The Call of the Simpsons</td>\n      <td>https://simpsons.fandom.com/wiki/The_Call_of_t...</td>\n      <td>7</td>\n      <td>1</td>\n    </tr>\n    <tr>\n      <th>8</th>\n      <td>The Telltale Head</td>\n      <td>https://simpsons.fandom.com/wiki/The_Telltale_...</td>\n      <td>8</td>\n      <td>1</td>\n    </tr>\n    <tr>\n      <th>9</th>\n      <td>Life on the Fast Lane</td>\n      <td>https://simpsons.fandom.com/wiki/Life_on_the_F...</td>\n      <td>9</td>\n      <td>1</td>\n    </tr>\n    <tr>\n      <th>10</th>\n      <td>Homer's Night Out</td>\n      <td>https://simpsons.fandom.com/wiki/Homer%27s_Nig...</td>\n      <td>10</td>\n      <td>1</td>\n    </tr>\n  </tbody>\n</table>\n</div>"
     },
     "execution_count": 48,
     "metadata": {},
     "output_type": "execute_result"
    }
   ],
   "source": [
    "links_df = links_df_original.sort_values(['season', 'episode'], ascending=[True, True])\n",
    "links_df.index = np.arange(1,len(links_df)+1)\n",
    "links_df.head(10)"
   ],
   "metadata": {
    "collapsed": false,
    "pycharm": {
     "name": "#%%\n"
    }
   }
  },
  {
   "cell_type": "code",
   "execution_count": 49,
   "outputs": [
    {
     "name": "stdout",
     "output_type": "stream",
     "text": [
      "Request terminated with status code 200\n",
      "Response encoded with UTF-8\n"
     ]
    }
   ],
   "source": [
    "ref_page_link = 'https://simpsons.fandom.com/wiki/Simpsons_Roasting_on_an_Open_Fire/References'\n",
    "req = requests.get(ref_page_link)\n",
    "print(f\"Request terminated with status code {req.status_code}\")\n",
    "print(f\"Response encoded with {req.encoding}\")\n",
    "ref_page = BeautifulSoup(req.text, 'html.parser')"
   ],
   "metadata": {
    "collapsed": false,
    "pycharm": {
     "name": "#%%\n"
    }
   }
  },
  {
   "cell_type": "code",
   "execution_count": 50,
   "outputs": [],
   "source": [
    "ref_types = ['Trivia', 'Cultural references', 'Continuity', 'Goofs', 'Cultural References', 'Appearances in other media', 'Trivia/Goofs', 'Goofs/Trivia', 'Previous Episode References', 'Production Notes', 'Connections to future episodes', \"Krusty's Birthday Buddies\", 'Movie Moment', 'Trivia/Cultural References', 'Censorship', 'Cultural Reference', 'U.S. Syndication Cuts', 'Beatles references', 'Notes and references', 'Notes', 'Legacy', 'Running Gags:', 'Seven Deadly Sins', 'Previous and Future Episode References', 'Goofs and Continuity Errors', 'Pants Goof', 'Deleted scenes', 'DVD Release', 'Censorship and Bans', 'Reception and Legacy', 'Reception', 'Airings', 'Pranks', 'Alternate Versions', 'Call-Backs', 'External Links', 'Premiere', 'Previous episode references', 'Broadcast', 'Aerospace References', 'Awards', 'China References', 'Production', 'Goofs/errors', 'Broadcasting Information', 'Errors', 'World War II references', 'Goof', 'Notes on Known Profiles', 'Reference links', 'Songs', 'Differences from Lady and the Tramp', 'Confusion', 'References to other episodes', 'Music', 'Factual Errors', 'International premieres', 'Cuts', 'References to Toy Story in Condiments', \"Goofs'\", 'Continuity Errors', 'In-show references', 'Culture References', 'Characters seen in the Advent Calendar', 'Continually', 'Previous Episodes References', 'Call-Backs to Episodes (In order of appearance in the episode)']"
   ],
   "metadata": {
    "collapsed": false,
    "pycharm": {
     "name": "#%%\n"
    }
   }
  },
  {
   "cell_type": "code",
   "execution_count": 51,
   "outputs": [],
   "source": [
    "# for all headers in the list find <ul> lists that may be separated with figures or smaller header\n",
    "# count <li> elements in each list\n",
    "new_headers = []\n",
    "def get_ref_counts(episode_id):\n",
    "    ref_page_link = links_df['url'].iloc[episode_id-1] + '/References'\n",
    "    req = requests.get(ref_page_link)\n",
    "    ref_page = BeautifulSoup(req.text, 'html.parser')\n",
    "    headers = ref_page.find_all('h2')\n",
    "    counter_dict = {}\n",
    "    h_pointer = headers[0]\n",
    "    for header in headers:\n",
    "        if header.text in ref_types:\n",
    "            h_pointer = header\n",
    "            break\n",
    "\n",
    "    counter_dict[h_pointer.text] = 0\n",
    "    for sibling in h_pointer.next_siblings:\n",
    "        if sibling.name in ['h2', 'ul']:\n",
    "            # switch pointer to new header if it was encountered\n",
    "            if sibling.name == 'h2':\n",
    "                if sibling.text in ref_types:\n",
    "                    h_pointer = sibling\n",
    "                    counter_dict[h_pointer.text] = 0\n",
    "                elif sibling.text == 'Call-Backs to previous episodes':\n",
    "                    # hard-coded cuz it was easier to count then to write specialized parser for 1 page\n",
    "                    counter_dict[sibling.text] = 31\n",
    "                else:\n",
    "                     if sibling.text not in new_headers:\n",
    "                         new_headers.append(sibling.text)\n",
    "            else:\n",
    "                # count number of li elements in ul tag\n",
    "                counter = 0\n",
    "                for li in sibling.contents:\n",
    "                    if li.name == 'li':\n",
    "                        counter = counter + 1\n",
    "                # increment total number of il elements of a pointed h2\n",
    "                counter_dict[h_pointer.text] = counter_dict[h_pointer.text] + counter\n",
    "        else:\n",
    "            continue\n",
    "    return counter_dict"
   ],
   "metadata": {
    "collapsed": false,
    "pycharm": {
     "name": "#%%\n"
    }
   }
  },
  {
   "cell_type": "code",
   "execution_count": 52,
   "outputs": [],
   "source": [
    "counter_dicts = []\n",
    "for i in range(len(links_df)):\n",
    "    cd = get_ref_counts(i+1)\n",
    "    counter_dicts.append(cd)"
   ],
   "metadata": {
    "collapsed": false,
    "pycharm": {
     "name": "#%%\n"
    }
   }
  },
  {
   "cell_type": "code",
   "execution_count": 53,
   "outputs": [],
   "source": [
    "list_df = []\n",
    "for i, cd in enumerate(counter_dicts):\n",
    "    list_df.append(pd.DataFrame(cd, index=[i]))\n",
    "joined_df = pd.concat(list_df)\n",
    "joined_df = joined_df.fillna(0)\n",
    "joined_df = joined_df.astype(int)"
   ],
   "metadata": {
    "collapsed": false,
    "pycharm": {
     "name": "#%%\n"
    }
   }
  },
  {
   "cell_type": "code",
   "execution_count": 55,
   "outputs": [],
   "source": [
    "headers_0 = ['Call-Backs to Episodes (In order of appearance in the episode)', 'Rock Bottom Corrections', 'Call-Backs to previous episodes', 'Goofs in the \"Italian-American-Mexican Standoff\" scene', 'End Credits', 'Differences from Snow White and The Seven Dwarfs', 'Lists']"
   ],
   "metadata": {
    "collapsed": false,
    "pycharm": {
     "name": "#%%\n"
    }
   }
  },
  {
   "cell_type": "code",
   "execution_count": 56,
   "outputs": [
    {
     "name": "stdout",
     "output_type": "stream",
     "text": [
      "Call-Backs to Episodes (In order of appearance in the episode) : 77\n",
      "\n",
      "Rock Bottom Corrections : 112\n",
      "\n",
      "Call-Backs to previous episodes : 286\n",
      "\n",
      "Goofs in the \"Italian-American-Mexican Standoff\" scene : 313\n",
      "\n",
      "End Credits : 360\n",
      "\n",
      "Differences from Snow White and The Seven Dwarfs : 440\n",
      "\n",
      "Lists : 444\n",
      "\n",
      "Lists : 457\n",
      "\n",
      "Lists : 504\n",
      "\n"
     ]
    }
   ],
   "source": [
    "def check_ref_counts(episode_id):\n",
    "    ref_page_link = links_df['url'].iloc[episode_id-1] + '/References'\n",
    "    req = requests.get(ref_page_link)\n",
    "    ref_page = BeautifulSoup(req.text, 'html.parser')\n",
    "    headers = ref_page.find_all('h2')\n",
    "    for header in headers:\n",
    "        if header.text in headers_0:\n",
    "            print(f'{header.text} : {episode_id}\\n')\n",
    "            break\n",
    "\n",
    "for i in range(len(links_df)):\n",
    "    cd = check_ref_counts(i+1)"
   ],
   "metadata": {
    "collapsed": false,
    "pycharm": {
     "name": "#%%\n"
    }
   }
  },
  {
   "cell_type": "code",
   "execution_count": 66,
   "outputs": [
    {
     "data": {
      "text/plain": "title                                Beware My Cheating Bart\nurl        https://simpsons.fandom.com/wiki/Beware_My_Che...\nepisode                                                   18\nseason                                                    23\nName: 504, dtype: object"
     },
     "execution_count": 66,
     "metadata": {},
     "output_type": "execute_result"
    }
   ],
   "source": [
    "links_df.loc[504]"
   ],
   "metadata": {
    "collapsed": false,
    "pycharm": {
     "name": "#%%\n"
    }
   }
  },
  {
   "cell_type": "code",
   "execution_count": 2,
   "outputs": [],
   "source": [
    "from fandom_wiki_refs_scraper import save_ref_counts\n",
    "\n",
    "save_ref_counts()"
   ],
   "metadata": {
    "collapsed": false,
    "pycharm": {
     "name": "#%%\n"
    }
   }
  }
 ],
 "metadata": {
  "kernelspec": {
   "display_name": "Python 3",
   "language": "python",
   "name": "python3"
  },
  "language_info": {
   "codemirror_mode": {
    "name": "ipython",
    "version": 2
   },
   "file_extension": ".py",
   "mimetype": "text/x-python",
   "name": "python",
   "nbconvert_exporter": "python",
   "pygments_lexer": "ipython2",
   "version": "2.7.6"
  }
 },
 "nbformat": 4,
 "nbformat_minor": 0
}