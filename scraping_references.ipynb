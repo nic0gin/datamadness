{
 "cells": [
  {
   "cell_type": "code",
   "execution_count": 131,
   "outputs": [],
   "source": [
    "from bs4 import BeautifulSoup\n",
    "import requests\n",
    "import pandas as pd\n",
    "import numpy as np"
   ],
   "metadata": {
    "collapsed": false,
    "pycharm": {
     "name": "#%%\n"
    }
   }
  },
  {
   "cell_type": "code",
   "execution_count": 12,
   "outputs": [],
   "source": [
    "links_df_original = pd.read_csv('simpsons_fandom_wiki_links.csv')"
   ],
   "metadata": {
    "collapsed": false,
    "pycharm": {
     "name": "#%%\n"
    }
   }
  },
  {
   "cell_type": "code",
   "execution_count": 19,
   "outputs": [
    {
     "data": {
      "text/plain": "                                title  \\\n1   Simpsons Roasting on an Open Fire   \n2                     Bart the Genius   \n3                     Homer's Odyssey   \n4       There's No Disgrace Like Home   \n5                    Bart the General   \n6                        Moaning Lisa   \n7            The Call of the Simpsons   \n8                   The Telltale Head   \n9               Life on the Fast Lane   \n10                  Homer's Night Out   \n\n                                                  url  episode  season  \n1   https://simpsons.fandom.com/wiki/Simpsons_Roas...        1       1  \n2    https://simpsons.fandom.com/wiki/Bart_the_Genius        2       1  \n3   https://simpsons.fandom.com/wiki/Homer%27s_Ody...        3       1  \n4   https://simpsons.fandom.com/wiki/There%27s_No_...        4       1  \n5   https://simpsons.fandom.com/wiki/Bart_the_General        5       1  \n6       https://simpsons.fandom.com/wiki/Moaning_Lisa        6       1  \n7   https://simpsons.fandom.com/wiki/The_Call_of_t...        7       1  \n8   https://simpsons.fandom.com/wiki/The_Telltale_...        8       1  \n9   https://simpsons.fandom.com/wiki/Life_on_the_F...        9       1  \n10  https://simpsons.fandom.com/wiki/Homer%27s_Nig...       10       1  ",
      "text/html": "<div>\n<style scoped>\n    .dataframe tbody tr th:only-of-type {\n        vertical-align: middle;\n    }\n\n    .dataframe tbody tr th {\n        vertical-align: top;\n    }\n\n    .dataframe thead th {\n        text-align: right;\n    }\n</style>\n<table border=\"1\" class=\"dataframe\">\n  <thead>\n    <tr style=\"text-align: right;\">\n      <th></th>\n      <th>title</th>\n      <th>url</th>\n      <th>episode</th>\n      <th>season</th>\n    </tr>\n  </thead>\n  <tbody>\n    <tr>\n      <th>1</th>\n      <td>Simpsons Roasting on an Open Fire</td>\n      <td>https://simpsons.fandom.com/wiki/Simpsons_Roas...</td>\n      <td>1</td>\n      <td>1</td>\n    </tr>\n    <tr>\n      <th>2</th>\n      <td>Bart the Genius</td>\n      <td>https://simpsons.fandom.com/wiki/Bart_the_Genius</td>\n      <td>2</td>\n      <td>1</td>\n    </tr>\n    <tr>\n      <th>3</th>\n      <td>Homer's Odyssey</td>\n      <td>https://simpsons.fandom.com/wiki/Homer%27s_Ody...</td>\n      <td>3</td>\n      <td>1</td>\n    </tr>\n    <tr>\n      <th>4</th>\n      <td>There's No Disgrace Like Home</td>\n      <td>https://simpsons.fandom.com/wiki/There%27s_No_...</td>\n      <td>4</td>\n      <td>1</td>\n    </tr>\n    <tr>\n      <th>5</th>\n      <td>Bart the General</td>\n      <td>https://simpsons.fandom.com/wiki/Bart_the_General</td>\n      <td>5</td>\n      <td>1</td>\n    </tr>\n    <tr>\n      <th>6</th>\n      <td>Moaning Lisa</td>\n      <td>https://simpsons.fandom.com/wiki/Moaning_Lisa</td>\n      <td>6</td>\n      <td>1</td>\n    </tr>\n    <tr>\n      <th>7</th>\n      <td>The Call of the Simpsons</td>\n      <td>https://simpsons.fandom.com/wiki/The_Call_of_t...</td>\n      <td>7</td>\n      <td>1</td>\n    </tr>\n    <tr>\n      <th>8</th>\n      <td>The Telltale Head</td>\n      <td>https://simpsons.fandom.com/wiki/The_Telltale_...</td>\n      <td>8</td>\n      <td>1</td>\n    </tr>\n    <tr>\n      <th>9</th>\n      <td>Life on the Fast Lane</td>\n      <td>https://simpsons.fandom.com/wiki/Life_on_the_F...</td>\n      <td>9</td>\n      <td>1</td>\n    </tr>\n    <tr>\n      <th>10</th>\n      <td>Homer's Night Out</td>\n      <td>https://simpsons.fandom.com/wiki/Homer%27s_Nig...</td>\n      <td>10</td>\n      <td>1</td>\n    </tr>\n  </tbody>\n</table>\n</div>"
     },
     "execution_count": 19,
     "metadata": {},
     "output_type": "execute_result"
    }
   ],
   "source": [
    "links_df = links_df_original.sort_values(['season', 'episode'], ascending=[True, True])\n",
    "links_df.index = np.arange(1,len(links_df)+1)\n",
    "links_df.head(10)"
   ],
   "metadata": {
    "collapsed": false,
    "pycharm": {
     "name": "#%%\n"
    }
   }
  },
  {
   "cell_type": "code",
   "execution_count": 105,
   "outputs": [
    {
     "name": "stdout",
     "output_type": "stream",
     "text": [
      "Request terminated with status code 200\n",
      "Response encoded with UTF-8\n"
     ]
    }
   ],
   "source": [
    "ref_page_link = 'https://simpsons.fandom.com/wiki/Simpsons_Roasting_on_an_Open_Fire/References'\n",
    "req = requests.get(ref_page_link)\n",
    "print(f\"Request terminated with status code {req.status_code}\")\n",
    "print(f\"Response encoded with {req.encoding}\")\n",
    "ref_page = BeautifulSoup(req.text, 'html.parser')"
   ],
   "metadata": {
    "collapsed": false,
    "pycharm": {
     "name": "#%%\n"
    }
   }
  },
  {
   "cell_type": "code",
   "execution_count": 191,
   "outputs": [],
   "source": [
    "ref_types = ['Trivia', 'Cultural references', 'Continuity', 'Goofs', 'Cultural References', 'References', 'Appearances in other media', 'Trivia/Goofs', 'Goofs/Trivia', 'Previous Episode References', 'Production Notes', 'Citation', 'Connections to future episodes', \"Krusty's Birthday Buddies\", 'Movie Moment', 'Citations', 'Trivia/Cultural References', 'Censorship', 'Cultural Reference', 'U.S. Syndication Cuts', 'Beatles references', 'Notes and references', 'Notes', 'Legacy', 'Running Gags:', 'Seven Deadly Sins', 'Previous and Future Episode References', 'Goofs and Continuity Errors', 'Pants Goof', 'Deleted scenes', 'DVD Release', 'Censorship and Bans', 'Reception and Legacy', 'Reception', 'Airings', 'Pranks', 'Alternate Versions', 'Call-Backs', 'External Links', 'Goofs in the \"Italian-American-Mexican Standoff\" scene', 'Premiere', 'Previous episode references', 'Broadcast', 'Aerospace References', 'Awards', 'China References', 'Production', 'Goofs/errors', 'Broadcasting Information', 'Errors', 'World War II references', 'Goof', 'Notes on Known Profiles', 'Reference links', 'Songs', 'Differences from Lady and the Tramp', 'Confusion', 'Differences from Snow White and The Seven Dwarfs', 'Lists', 'References to other episodes', 'Music', 'Factual Errors', 'International premieres', 'Cuts', 'References to Toy Story in Condiments', \"Goofs'\", 'Continuity Errors', 'In-show references', 'Culture References', 'Characters seen in the Advent Calendar', 'Continually', 'Previous Episodes References']"
   ],
   "metadata": {
    "collapsed": false,
    "pycharm": {
     "name": "#%%\n"
    }
   }
  },
  {
   "cell_type": "code",
   "execution_count": 193,
   "outputs": [],
   "source": [
    "# for all headers in the list find <ul> lists that may be separated with figures or smaller header\n",
    "# count <li> elements in each list\n",
    "def get_ref_counts(episode_id):\n",
    "    ref_page_link = links_df['url'].iloc[episode_id-1] + '/References'\n",
    "    req = requests.get(ref_page_link)\n",
    "    ref_page = BeautifulSoup(req.text, 'html.parser')\n",
    "    headers = ref_page.find_all('h2')\n",
    "    counter_dict = {}\n",
    "    h_pointer = headers[0]\n",
    "    for header in headers:\n",
    "        if header.text in ref_types:\n",
    "            h_pointer = header\n",
    "            break\n",
    "\n",
    "    counter_dict[h_pointer.text] = 0\n",
    "    breakers_list = []\n",
    "    for sibling in h_pointer.next_siblings:\n",
    "        if sibling.name in ['h2', 'ul']:\n",
    "            # switch pointer to new header if it was encountered\n",
    "            if sibling.name == 'h2':\n",
    "                if sibling.text in ref_types:\n",
    "                    h_pointer = sibling\n",
    "                    counter_dict[h_pointer.text] = 0\n",
    "            else:\n",
    "                # count number of li elements in ul tag\n",
    "                counter = 0\n",
    "                for li in sibling.contents:\n",
    "                    if li.name == 'li':\n",
    "                        counter = counter + 1\n",
    "                # increment total number of il elements of a pointed h2\n",
    "                counter_dict[h_pointer.text] = counter_dict[h_pointer.text] + counter\n",
    "        elif sibling.name in ['h3','figure',None]:\n",
    "            # skip decorator elements\n",
    "            continue\n",
    "        else:\n",
    "            breakers_list.append(sibling.name)\n",
    "            break\n",
    "    return counter_dict"
   ],
   "metadata": {
    "collapsed": false,
    "pycharm": {
     "name": "#%%\n"
    }
   }
  },
  {
   "cell_type": "code",
   "execution_count": 194,
   "outputs": [],
   "source": [
    "counter_dicts = []\n",
    "for i in range(len(links_df)):\n",
    "    cd = get_ref_counts(i+1)\n",
    "    counter_dicts.append(cd)"
   ],
   "metadata": {
    "collapsed": false,
    "pycharm": {
     "name": "#%%\n"
    }
   }
  },
  {
   "cell_type": "code",
   "execution_count": 195,
   "outputs": [],
   "source": [
    "list_df = []\n",
    "for i, cd in enumerate(counter_dicts):\n",
    "    list_df.append(pd.DataFrame(cd, index=[i]))\n",
    "joined_df = pd.concat(list_df)"
   ],
   "metadata": {
    "collapsed": false,
    "pycharm": {
     "name": "#%%\n"
    }
   }
  },
  {
   "cell_type": "code",
   "execution_count": 200,
   "outputs": [
    {
     "data": {
      "text/plain": "   Trivia  Cultural references  Continuity  Goofs  Cultural References  \\\n0      20                   11          16     33                    0   \n1      21                    0           6      7                   14   \n2      28                    0           0     17                    3   \n3      20                    0           0     18                    7   \n4       9                    0           0      0                    3   \n5      20                    0           0      6                    6   \n6      20                    0           0      5                    5   \n7      31                    0           0      8                    7   \n8      14                    0           0      7                    2   \n9      14                    0           0      2                    0   \n\n   References  Appearances in other media  Trivia/Goofs  Goofs/Trivia  \\\n0           0                           0             0             0   \n1           0                           0             0             0   \n2           0                           0             0             0   \n3           0                           1             0             0   \n4           0                           0             0             0   \n5           0                           0             0             0   \n6           0                           0             0             0   \n7           0                           0             0             0   \n8           0                           0             0             0   \n9           0                           0             0             0   \n\n   Previous Episode References  ...  International premieres  Cuts  \\\n0                            0  ...                        0     0   \n1                            0  ...                        0     0   \n2                            0  ...                        0     0   \n3                            0  ...                        0     0   \n4                            0  ...                        0     0   \n5                            0  ...                        0     0   \n6                            0  ...                        0     0   \n7                            0  ...                        0     0   \n8                            0  ...                        0     0   \n9                            0  ...                        0     0   \n\n   References to Toy Story in Condiments  Goofs'  Continuity Errors  \\\n0                                      0       0                  0   \n1                                      0       0                  0   \n2                                      0       0                  0   \n3                                      0       0                  0   \n4                                      0       0                  0   \n5                                      0       0                  0   \n6                                      0       0                  0   \n7                                      0       0                  0   \n8                                      0       0                  0   \n9                                      0       0                  0   \n\n   In-show references  Culture References  \\\n0                   0                   0   \n1                   0                   0   \n2                   0                   0   \n3                   0                   0   \n4                   0                   0   \n5                   0                   0   \n6                   0                   0   \n7                   0                   0   \n8                   0                   0   \n9                   0                   0   \n\n   Characters seen in the Advent Calendar  Continually  \\\n0                                       0            0   \n1                                       0            0   \n2                                       0            0   \n3                                       0            0   \n4                                       0            0   \n5                                       0            0   \n6                                       0            0   \n7                                       0            0   \n8                                       0            0   \n9                                       0            0   \n\n   Previous Episodes References  \n0                             0  \n1                             0  \n2                             0  \n3                             0  \n4                             0  \n5                             0  \n6                             0  \n7                             0  \n8                             0  \n9                             0  \n\n[10 rows x 72 columns]",
      "text/html": "<div>\n<style scoped>\n    .dataframe tbody tr th:only-of-type {\n        vertical-align: middle;\n    }\n\n    .dataframe tbody tr th {\n        vertical-align: top;\n    }\n\n    .dataframe thead th {\n        text-align: right;\n    }\n</style>\n<table border=\"1\" class=\"dataframe\">\n  <thead>\n    <tr style=\"text-align: right;\">\n      <th></th>\n      <th>Trivia</th>\n      <th>Cultural references</th>\n      <th>Continuity</th>\n      <th>Goofs</th>\n      <th>Cultural References</th>\n      <th>References</th>\n      <th>Appearances in other media</th>\n      <th>Trivia/Goofs</th>\n      <th>Goofs/Trivia</th>\n      <th>Previous Episode References</th>\n      <th>...</th>\n      <th>International premieres</th>\n      <th>Cuts</th>\n      <th>References to Toy Story in Condiments</th>\n      <th>Goofs'</th>\n      <th>Continuity Errors</th>\n      <th>In-show references</th>\n      <th>Culture References</th>\n      <th>Characters seen in the Advent Calendar</th>\n      <th>Continually</th>\n      <th>Previous Episodes References</th>\n    </tr>\n  </thead>\n  <tbody>\n    <tr>\n      <th>0</th>\n      <td>20</td>\n      <td>11</td>\n      <td>16</td>\n      <td>33</td>\n      <td>0</td>\n      <td>0</td>\n      <td>0</td>\n      <td>0</td>\n      <td>0</td>\n      <td>0</td>\n      <td>...</td>\n      <td>0</td>\n      <td>0</td>\n      <td>0</td>\n      <td>0</td>\n      <td>0</td>\n      <td>0</td>\n      <td>0</td>\n      <td>0</td>\n      <td>0</td>\n      <td>0</td>\n    </tr>\n    <tr>\n      <th>1</th>\n      <td>21</td>\n      <td>0</td>\n      <td>6</td>\n      <td>7</td>\n      <td>14</td>\n      <td>0</td>\n      <td>0</td>\n      <td>0</td>\n      <td>0</td>\n      <td>0</td>\n      <td>...</td>\n      <td>0</td>\n      <td>0</td>\n      <td>0</td>\n      <td>0</td>\n      <td>0</td>\n      <td>0</td>\n      <td>0</td>\n      <td>0</td>\n      <td>0</td>\n      <td>0</td>\n    </tr>\n    <tr>\n      <th>2</th>\n      <td>28</td>\n      <td>0</td>\n      <td>0</td>\n      <td>17</td>\n      <td>3</td>\n      <td>0</td>\n      <td>0</td>\n      <td>0</td>\n      <td>0</td>\n      <td>0</td>\n      <td>...</td>\n      <td>0</td>\n      <td>0</td>\n      <td>0</td>\n      <td>0</td>\n      <td>0</td>\n      <td>0</td>\n      <td>0</td>\n      <td>0</td>\n      <td>0</td>\n      <td>0</td>\n    </tr>\n    <tr>\n      <th>3</th>\n      <td>20</td>\n      <td>0</td>\n      <td>0</td>\n      <td>18</td>\n      <td>7</td>\n      <td>0</td>\n      <td>1</td>\n      <td>0</td>\n      <td>0</td>\n      <td>0</td>\n      <td>...</td>\n      <td>0</td>\n      <td>0</td>\n      <td>0</td>\n      <td>0</td>\n      <td>0</td>\n      <td>0</td>\n      <td>0</td>\n      <td>0</td>\n      <td>0</td>\n      <td>0</td>\n    </tr>\n    <tr>\n      <th>4</th>\n      <td>9</td>\n      <td>0</td>\n      <td>0</td>\n      <td>0</td>\n      <td>3</td>\n      <td>0</td>\n      <td>0</td>\n      <td>0</td>\n      <td>0</td>\n      <td>0</td>\n      <td>...</td>\n      <td>0</td>\n      <td>0</td>\n      <td>0</td>\n      <td>0</td>\n      <td>0</td>\n      <td>0</td>\n      <td>0</td>\n      <td>0</td>\n      <td>0</td>\n      <td>0</td>\n    </tr>\n    <tr>\n      <th>5</th>\n      <td>20</td>\n      <td>0</td>\n      <td>0</td>\n      <td>6</td>\n      <td>6</td>\n      <td>0</td>\n      <td>0</td>\n      <td>0</td>\n      <td>0</td>\n      <td>0</td>\n      <td>...</td>\n      <td>0</td>\n      <td>0</td>\n      <td>0</td>\n      <td>0</td>\n      <td>0</td>\n      <td>0</td>\n      <td>0</td>\n      <td>0</td>\n      <td>0</td>\n      <td>0</td>\n    </tr>\n    <tr>\n      <th>6</th>\n      <td>20</td>\n      <td>0</td>\n      <td>0</td>\n      <td>5</td>\n      <td>5</td>\n      <td>0</td>\n      <td>0</td>\n      <td>0</td>\n      <td>0</td>\n      <td>0</td>\n      <td>...</td>\n      <td>0</td>\n      <td>0</td>\n      <td>0</td>\n      <td>0</td>\n      <td>0</td>\n      <td>0</td>\n      <td>0</td>\n      <td>0</td>\n      <td>0</td>\n      <td>0</td>\n    </tr>\n    <tr>\n      <th>7</th>\n      <td>31</td>\n      <td>0</td>\n      <td>0</td>\n      <td>8</td>\n      <td>7</td>\n      <td>0</td>\n      <td>0</td>\n      <td>0</td>\n      <td>0</td>\n      <td>0</td>\n      <td>...</td>\n      <td>0</td>\n      <td>0</td>\n      <td>0</td>\n      <td>0</td>\n      <td>0</td>\n      <td>0</td>\n      <td>0</td>\n      <td>0</td>\n      <td>0</td>\n      <td>0</td>\n    </tr>\n    <tr>\n      <th>8</th>\n      <td>14</td>\n      <td>0</td>\n      <td>0</td>\n      <td>7</td>\n      <td>2</td>\n      <td>0</td>\n      <td>0</td>\n      <td>0</td>\n      <td>0</td>\n      <td>0</td>\n      <td>...</td>\n      <td>0</td>\n      <td>0</td>\n      <td>0</td>\n      <td>0</td>\n      <td>0</td>\n      <td>0</td>\n      <td>0</td>\n      <td>0</td>\n      <td>0</td>\n      <td>0</td>\n    </tr>\n    <tr>\n      <th>9</th>\n      <td>14</td>\n      <td>0</td>\n      <td>0</td>\n      <td>2</td>\n      <td>0</td>\n      <td>0</td>\n      <td>0</td>\n      <td>0</td>\n      <td>0</td>\n      <td>0</td>\n      <td>...</td>\n      <td>0</td>\n      <td>0</td>\n      <td>0</td>\n      <td>0</td>\n      <td>0</td>\n      <td>0</td>\n      <td>0</td>\n      <td>0</td>\n      <td>0</td>\n      <td>0</td>\n    </tr>\n  </tbody>\n</table>\n<p>10 rows × 72 columns</p>\n</div>"
     },
     "execution_count": 200,
     "metadata": {},
     "output_type": "execute_result"
    }
   ],
   "source": [
    "new_joined_df = joined_df.fillna(0)\n",
    "new_joined_df = new_joined_df.astype(int)\n",
    "new_joined_df.to_csv('references.csv', index=False)\n",
    "new_joined_df.head(10)"
   ],
   "metadata": {
    "collapsed": false,
    "pycharm": {
     "name": "#%%\n"
    }
   }
  },
  {
   "cell_type": "code",
   "execution_count": 197,
   "outputs": [
    {
     "data": {
      "text/plain": "1    https://simpsons.fandom.com/wiki/Simpsons_Roas...\n2     https://simpsons.fandom.com/wiki/Bart_the_Genius\n3    https://simpsons.fandom.com/wiki/Homer%27s_Ody...\n4    https://simpsons.fandom.com/wiki/There%27s_No_...\n5    https://simpsons.fandom.com/wiki/Bart_the_General\n6        https://simpsons.fandom.com/wiki/Moaning_Lisa\nName: url, dtype: object"
     },
     "execution_count": 197,
     "metadata": {},
     "output_type": "execute_result"
    }
   ],
   "source": [
    "links_df.iloc[[0,1,2,3,4,5]]['url']"
   ],
   "metadata": {
    "collapsed": false,
    "pycharm": {
     "name": "#%%\n"
    }
   }
  }
 ],
 "metadata": {
  "kernelspec": {
   "display_name": "Python 3",
   "language": "python",
   "name": "python3"
  },
  "language_info": {
   "codemirror_mode": {
    "name": "ipython",
    "version": 2
   },
   "file_extension": ".py",
   "mimetype": "text/x-python",
   "name": "python",
   "nbconvert_exporter": "python",
   "pygments_lexer": "ipython2",
   "version": "2.7.6"
  }
 },
 "nbformat": 4,
 "nbformat_minor": 0
}