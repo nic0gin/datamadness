{
 "cells": [
  {
   "cell_type": "code",
   "execution_count": 1,
   "outputs": [],
   "source": [
    "from bs4 import BeautifulSoup\n",
    "import requests\n",
    "import pandas as pd\n",
    "import lxml"
   ],
   "metadata": {
    "collapsed": false,
    "pycharm": {
     "name": "#%%\n"
    }
   }
  },
  {
   "cell_type": "code",
   "execution_count": 2,
   "outputs": [],
   "source": [
    "max_seasons = 28\n",
    "season_page_url_base = 'https://simpsons.fandom.com/wiki/Season_'\n",
    "season_page_urls = [season_page_url_base+str(i+1) for i in range(max_seasons)]"
   ],
   "metadata": {
    "collapsed": false,
    "pycharm": {
     "name": "#%%\n"
    }
   }
  },
  {
   "cell_type": "code",
   "execution_count": 104,
   "outputs": [],
   "source": [
    "total_counter = 0\n",
    "\n",
    "def get_links_by_season(season_id: int, verbose=False):\n",
    "    req = requests.get(season_page_urls[season_id])\n",
    "    if verbose:\n",
    "        print(f\"Request terminated with status code {req.status_code}\")\n",
    "        print(f\"Response encoded with {req.encoding}\")\n",
    "    season_page = BeautifulSoup(req.text, 'html.parser')\n",
    "\n",
    "    episodes_links = {\"title\" : [], \"url\": [], \"episode\": [], \"season\": []}\n",
    "\n",
    "    tables = season_page('table')\n",
    "    table_id = 0\n",
    "    for i, table in enumerate(tables):\n",
    "        if table.has_attr('class') and table['class'][0] == 'wikitable':\n",
    "            table_id = i\n",
    "            break\n",
    "    rows = tables[table_id].find_all('tr')\n",
    "    episode_num = (len(rows)-1)\n",
    "    episode_counter = 0\n",
    "    for i in range(episode_num+1):\n",
    "        cols = rows[i].find_all('td')\n",
    "        title_col_id = 4 if (16 < season_id < 21) else (3 if season_id == 21 else 2)\n",
    "        if title_col_id < len(cols):\n",
    "            link = cols[title_col_id].find_all('a', href=True)\n",
    "            if len(link) > 0:\n",
    "                episodes_links['title'].append(link[0].text)\n",
    "                episodes_links['url'].append('https://simpsons.fandom.com'+link[0]['href'])\n",
    "                episodes_links['season'].append(season_id+1)\n",
    "                episode_counter = episode_counter + 1\n",
    "                episodes_links['episode'].append(episode_counter)\n",
    "    return episodes_links"
   ],
   "metadata": {
    "collapsed": false,
    "pycharm": {
     "name": "#%%\n"
    }
   }
  },
  {
   "cell_type": "code",
   "execution_count": 107,
   "outputs": [
    {
     "data": {
      "text/plain": "                               title  \\\n0  Simpsons Roasting on an Open Fire   \n1                    Bart the Genius   \n2                    Homer's Odyssey   \n3      There's No Disgrace Like Home   \n4                   Bart the General   \n5                       Moaning Lisa   \n6           The Call of the Simpsons   \n7                  The Telltale Head   \n8              Life on the Fast Lane   \n9                  Homer's Night Out   \n\n                                                 url  episode  season  \n0  https://simpsons.fandom.com/wiki/Simpsons_Roas...        1       1  \n1   https://simpsons.fandom.com/wiki/Bart_the_Genius        2       1  \n2  https://simpsons.fandom.com/wiki/Homer%27s_Ody...        3       1  \n3  https://simpsons.fandom.com/wiki/There%27s_No_...        4       1  \n4  https://simpsons.fandom.com/wiki/Bart_the_General        5       1  \n5      https://simpsons.fandom.com/wiki/Moaning_Lisa        6       1  \n6  https://simpsons.fandom.com/wiki/The_Call_of_t...        7       1  \n7  https://simpsons.fandom.com/wiki/The_Telltale_...        8       1  \n8  https://simpsons.fandom.com/wiki/Life_on_the_F...        9       1  \n9  https://simpsons.fandom.com/wiki/Homer%27s_Nig...       10       1  ",
      "text/html": "<div>\n<style scoped>\n    .dataframe tbody tr th:only-of-type {\n        vertical-align: middle;\n    }\n\n    .dataframe tbody tr th {\n        vertical-align: top;\n    }\n\n    .dataframe thead th {\n        text-align: right;\n    }\n</style>\n<table border=\"1\" class=\"dataframe\">\n  <thead>\n    <tr style=\"text-align: right;\">\n      <th></th>\n      <th>title</th>\n      <th>url</th>\n      <th>episode</th>\n      <th>season</th>\n    </tr>\n  </thead>\n  <tbody>\n    <tr>\n      <th>0</th>\n      <td>Simpsons Roasting on an Open Fire</td>\n      <td>https://simpsons.fandom.com/wiki/Simpsons_Roas...</td>\n      <td>1</td>\n      <td>1</td>\n    </tr>\n    <tr>\n      <th>1</th>\n      <td>Bart the Genius</td>\n      <td>https://simpsons.fandom.com/wiki/Bart_the_Genius</td>\n      <td>2</td>\n      <td>1</td>\n    </tr>\n    <tr>\n      <th>2</th>\n      <td>Homer's Odyssey</td>\n      <td>https://simpsons.fandom.com/wiki/Homer%27s_Ody...</td>\n      <td>3</td>\n      <td>1</td>\n    </tr>\n    <tr>\n      <th>3</th>\n      <td>There's No Disgrace Like Home</td>\n      <td>https://simpsons.fandom.com/wiki/There%27s_No_...</td>\n      <td>4</td>\n      <td>1</td>\n    </tr>\n    <tr>\n      <th>4</th>\n      <td>Bart the General</td>\n      <td>https://simpsons.fandom.com/wiki/Bart_the_General</td>\n      <td>5</td>\n      <td>1</td>\n    </tr>\n    <tr>\n      <th>5</th>\n      <td>Moaning Lisa</td>\n      <td>https://simpsons.fandom.com/wiki/Moaning_Lisa</td>\n      <td>6</td>\n      <td>1</td>\n    </tr>\n    <tr>\n      <th>6</th>\n      <td>The Call of the Simpsons</td>\n      <td>https://simpsons.fandom.com/wiki/The_Call_of_t...</td>\n      <td>7</td>\n      <td>1</td>\n    </tr>\n    <tr>\n      <th>7</th>\n      <td>The Telltale Head</td>\n      <td>https://simpsons.fandom.com/wiki/The_Telltale_...</td>\n      <td>8</td>\n      <td>1</td>\n    </tr>\n    <tr>\n      <th>8</th>\n      <td>Life on the Fast Lane</td>\n      <td>https://simpsons.fandom.com/wiki/Life_on_the_F...</td>\n      <td>9</td>\n      <td>1</td>\n    </tr>\n    <tr>\n      <th>9</th>\n      <td>Homer's Night Out</td>\n      <td>https://simpsons.fandom.com/wiki/Homer%27s_Nig...</td>\n      <td>10</td>\n      <td>1</td>\n    </tr>\n  </tbody>\n</table>\n</div>"
     },
     "execution_count": 107,
     "metadata": {},
     "output_type": "execute_result"
    }
   ],
   "source": [
    "links_dict = [get_links_by_season(i) for i in range(max_seasons)]\n",
    "links_df = [pd.DataFrame(links_dict[i]) for i in range(max_seasons)]\n",
    "links_per_episode_df = pd.concat(links_df)\n",
    "links_per_episode_df[['episode', 'season']] = links_per_episode_df[['episode', 'season']].astype(int)\n",
    "links_per_episode_df.to_csv('simpsons_fandom_wiki_links.csv', index=False)\n",
    "links_per_episode_df.head(10)"
   ],
   "metadata": {
    "collapsed": false,
    "pycharm": {
     "name": "#%%\n"
    }
   }
  },
  {
   "cell_type": "code",
   "execution_count": 106,
   "outputs": [
    {
     "data": {
      "text/plain": "          episode      season\ncount  617.000000  617.000000\nmean    11.623987   14.482982\nstd      6.514066    7.979486\nmin      1.000000    1.000000\n25%      6.000000    8.000000\n50%     12.000000   14.000000\n75%     17.000000   21.000000\nmax     25.000000   28.000000",
      "text/html": "<div>\n<style scoped>\n    .dataframe tbody tr th:only-of-type {\n        vertical-align: middle;\n    }\n\n    .dataframe tbody tr th {\n        vertical-align: top;\n    }\n\n    .dataframe thead th {\n        text-align: right;\n    }\n</style>\n<table border=\"1\" class=\"dataframe\">\n  <thead>\n    <tr style=\"text-align: right;\">\n      <th></th>\n      <th>episode</th>\n      <th>season</th>\n    </tr>\n  </thead>\n  <tbody>\n    <tr>\n      <th>count</th>\n      <td>617.000000</td>\n      <td>617.000000</td>\n    </tr>\n    <tr>\n      <th>mean</th>\n      <td>11.623987</td>\n      <td>14.482982</td>\n    </tr>\n    <tr>\n      <th>std</th>\n      <td>6.514066</td>\n      <td>7.979486</td>\n    </tr>\n    <tr>\n      <th>min</th>\n      <td>1.000000</td>\n      <td>1.000000</td>\n    </tr>\n    <tr>\n      <th>25%</th>\n      <td>6.000000</td>\n      <td>8.000000</td>\n    </tr>\n    <tr>\n      <th>50%</th>\n      <td>12.000000</td>\n      <td>14.000000</td>\n    </tr>\n    <tr>\n      <th>75%</th>\n      <td>17.000000</td>\n      <td>21.000000</td>\n    </tr>\n    <tr>\n      <th>max</th>\n      <td>25.000000</td>\n      <td>28.000000</td>\n    </tr>\n  </tbody>\n</table>\n</div>"
     },
     "execution_count": 106,
     "metadata": {},
     "output_type": "execute_result"
    }
   ],
   "source": [
    "links_per_episode_df.describe()"
   ],
   "metadata": {
    "collapsed": false,
    "pycharm": {
     "name": "#%%\n"
    }
   }
  },
  {
   "cell_type": "code",
   "execution_count": 6,
   "outputs": [
    {
     "name": "stdout",
     "output_type": "stream",
     "text": [
      "Request terminated with status code 200\n",
      "Response encoded with UTF-8\n"
     ]
    }
   ],
   "source": [
    "req = requests.get('https://www.imdb.com/title/tt0096697/episodes?season=1')\n",
    "print(f\"Request terminated with status code {req.status_code}\")\n",
    "print(f\"Response encoded with {req.encoding}\")"
   ],
   "metadata": {
    "collapsed": false,
    "pycharm": {
     "name": "#%%\n"
    }
   }
  },
  {
   "cell_type": "code",
   "execution_count": 7,
   "metadata": {
    "collapsed": true,
    "pycharm": {
     "name": "#%%\n"
    }
   },
   "outputs": [],
   "source": [
    "episodes_df = pd.read_csv('Datasets/data-society-the-simpsons-by-the-data/simpsons_episodes.csv')"
   ]
  },
  {
   "cell_type": "code",
   "execution_count": 8,
   "outputs": [
    {
     "data": {
      "text/plain": "   id                                          image_url  imdb_rating  \\\n0  10  http://static-media.fxx.com/img/FX_Networks_-_...          7.4   \n1  12  http://static-media.fxx.com/img/FX_Networks_-_...          8.3   \n2  14  http://static-media.fxx.com/img/FX_Networks_-_...          8.2   \n3  17  http://static-media.fxx.com/img/FX_Networks_-_...          8.1   \n4  19  http://static-media.fxx.com/img/FX_Networks_-_...          8.0   \n5  21  http://static-media.fxx.com/img/FX_Networks_-_...          8.4   \n6  23  http://static-media.fxx.com/img/FX_Networks_-_...          7.8   \n7  26  http://static-media.fxx.com/img/FX_Networks_-_...          8.0   \n8  28  http://static-media.fxx.com/img/FX_Networks_-_...          8.2   \n9  30  http://static-media.fxx.com/img/FX_Networks_-_...          7.6   \n\n   imdb_votes  number_in_season  number_in_series original_air_date  \\\n0      1511.0                10                10        1990-03-25   \n1      1716.0                12                12        1990-04-29   \n2      1638.0                 1                14        1990-10-11   \n3      1457.0                 4                17        1990-11-01   \n4      1366.0                 6                19        1990-11-15   \n5      1522.0                 8                21        1990-12-06   \n6      1340.0                10                23        1991-01-10   \n7      1329.0                13                26        1991-02-07   \n8      1413.0                15                28        1991-02-21   \n9      1243.0                17                30        1991-03-28   \n\n   original_air_year production_code  season  \\\n0               1990            7G10       1   \n1               1990            7G12       1   \n2               1990            7F03       2   \n3               1990            7F01       2   \n4               1990            7F08       2   \n5               1990            7F06       2   \n6               1991            7F10       2   \n7               1991            7F13       2   \n8               1991            7F16       2   \n9               1991            7F17       2   \n\n                                               title  us_viewers_in_millions  \\\n0                                  Homer's Night Out                    30.3   \n1                                 Krusty Gets Busted                    30.4   \n2                                   Bart Gets an \"F\"                    33.6   \n3  Two Cars in Every Garage and Three Eyes on Eve...                    26.1   \n4                               Dead Putting Society                    25.4   \n5                                 Bart the Daredevil                    26.2   \n6                             Bart Gets Hit by a Car                    24.8   \n7             Homer vs. Lisa and the 8th Commandment                    26.2   \n8                        Oh Brother, Where Art Thou?                    26.8   \n9                                          Old Money                    21.2   \n\n                                         video_url    views  \n0  http://www.simpsonsworld.com/video/275197507879  50816.0  \n1  http://www.simpsonsworld.com/video/288019523914  62561.0  \n2  http://www.simpsonsworld.com/video/260539459671  59575.0  \n3  http://www.simpsonsworld.com/video/260537411822  64959.0  \n4  http://www.simpsonsworld.com/video/260539459670  50691.0  \n5  http://www.simpsonsworld.com/video/260539459702  57605.0  \n6  http://www.simpsonsworld.com/video/260550723760  56486.0  \n7  http://www.simpsonsworld.com/video/260820547692  58277.0  \n8  http://www.simpsonsworld.com/video/272046659561  47426.0  \n9  http://www.simpsonsworld.com/video/263504963955  44331.0  ",
      "text/html": "<div>\n<style scoped>\n    .dataframe tbody tr th:only-of-type {\n        vertical-align: middle;\n    }\n\n    .dataframe tbody tr th {\n        vertical-align: top;\n    }\n\n    .dataframe thead th {\n        text-align: right;\n    }\n</style>\n<table border=\"1\" class=\"dataframe\">\n  <thead>\n    <tr style=\"text-align: right;\">\n      <th></th>\n      <th>id</th>\n      <th>image_url</th>\n      <th>imdb_rating</th>\n      <th>imdb_votes</th>\n      <th>number_in_season</th>\n      <th>number_in_series</th>\n      <th>original_air_date</th>\n      <th>original_air_year</th>\n      <th>production_code</th>\n      <th>season</th>\n      <th>title</th>\n      <th>us_viewers_in_millions</th>\n      <th>video_url</th>\n      <th>views</th>\n    </tr>\n  </thead>\n  <tbody>\n    <tr>\n      <th>0</th>\n      <td>10</td>\n      <td>http://static-media.fxx.com/img/FX_Networks_-_...</td>\n      <td>7.4</td>\n      <td>1511.0</td>\n      <td>10</td>\n      <td>10</td>\n      <td>1990-03-25</td>\n      <td>1990</td>\n      <td>7G10</td>\n      <td>1</td>\n      <td>Homer's Night Out</td>\n      <td>30.3</td>\n      <td>http://www.simpsonsworld.com/video/275197507879</td>\n      <td>50816.0</td>\n    </tr>\n    <tr>\n      <th>1</th>\n      <td>12</td>\n      <td>http://static-media.fxx.com/img/FX_Networks_-_...</td>\n      <td>8.3</td>\n      <td>1716.0</td>\n      <td>12</td>\n      <td>12</td>\n      <td>1990-04-29</td>\n      <td>1990</td>\n      <td>7G12</td>\n      <td>1</td>\n      <td>Krusty Gets Busted</td>\n      <td>30.4</td>\n      <td>http://www.simpsonsworld.com/video/288019523914</td>\n      <td>62561.0</td>\n    </tr>\n    <tr>\n      <th>2</th>\n      <td>14</td>\n      <td>http://static-media.fxx.com/img/FX_Networks_-_...</td>\n      <td>8.2</td>\n      <td>1638.0</td>\n      <td>1</td>\n      <td>14</td>\n      <td>1990-10-11</td>\n      <td>1990</td>\n      <td>7F03</td>\n      <td>2</td>\n      <td>Bart Gets an \"F\"</td>\n      <td>33.6</td>\n      <td>http://www.simpsonsworld.com/video/260539459671</td>\n      <td>59575.0</td>\n    </tr>\n    <tr>\n      <th>3</th>\n      <td>17</td>\n      <td>http://static-media.fxx.com/img/FX_Networks_-_...</td>\n      <td>8.1</td>\n      <td>1457.0</td>\n      <td>4</td>\n      <td>17</td>\n      <td>1990-11-01</td>\n      <td>1990</td>\n      <td>7F01</td>\n      <td>2</td>\n      <td>Two Cars in Every Garage and Three Eyes on Eve...</td>\n      <td>26.1</td>\n      <td>http://www.simpsonsworld.com/video/260537411822</td>\n      <td>64959.0</td>\n    </tr>\n    <tr>\n      <th>4</th>\n      <td>19</td>\n      <td>http://static-media.fxx.com/img/FX_Networks_-_...</td>\n      <td>8.0</td>\n      <td>1366.0</td>\n      <td>6</td>\n      <td>19</td>\n      <td>1990-11-15</td>\n      <td>1990</td>\n      <td>7F08</td>\n      <td>2</td>\n      <td>Dead Putting Society</td>\n      <td>25.4</td>\n      <td>http://www.simpsonsworld.com/video/260539459670</td>\n      <td>50691.0</td>\n    </tr>\n    <tr>\n      <th>5</th>\n      <td>21</td>\n      <td>http://static-media.fxx.com/img/FX_Networks_-_...</td>\n      <td>8.4</td>\n      <td>1522.0</td>\n      <td>8</td>\n      <td>21</td>\n      <td>1990-12-06</td>\n      <td>1990</td>\n      <td>7F06</td>\n      <td>2</td>\n      <td>Bart the Daredevil</td>\n      <td>26.2</td>\n      <td>http://www.simpsonsworld.com/video/260539459702</td>\n      <td>57605.0</td>\n    </tr>\n    <tr>\n      <th>6</th>\n      <td>23</td>\n      <td>http://static-media.fxx.com/img/FX_Networks_-_...</td>\n      <td>7.8</td>\n      <td>1340.0</td>\n      <td>10</td>\n      <td>23</td>\n      <td>1991-01-10</td>\n      <td>1991</td>\n      <td>7F10</td>\n      <td>2</td>\n      <td>Bart Gets Hit by a Car</td>\n      <td>24.8</td>\n      <td>http://www.simpsonsworld.com/video/260550723760</td>\n      <td>56486.0</td>\n    </tr>\n    <tr>\n      <th>7</th>\n      <td>26</td>\n      <td>http://static-media.fxx.com/img/FX_Networks_-_...</td>\n      <td>8.0</td>\n      <td>1329.0</td>\n      <td>13</td>\n      <td>26</td>\n      <td>1991-02-07</td>\n      <td>1991</td>\n      <td>7F13</td>\n      <td>2</td>\n      <td>Homer vs. Lisa and the 8th Commandment</td>\n      <td>26.2</td>\n      <td>http://www.simpsonsworld.com/video/260820547692</td>\n      <td>58277.0</td>\n    </tr>\n    <tr>\n      <th>8</th>\n      <td>28</td>\n      <td>http://static-media.fxx.com/img/FX_Networks_-_...</td>\n      <td>8.2</td>\n      <td>1413.0</td>\n      <td>15</td>\n      <td>28</td>\n      <td>1991-02-21</td>\n      <td>1991</td>\n      <td>7F16</td>\n      <td>2</td>\n      <td>Oh Brother, Where Art Thou?</td>\n      <td>26.8</td>\n      <td>http://www.simpsonsworld.com/video/272046659561</td>\n      <td>47426.0</td>\n    </tr>\n    <tr>\n      <th>9</th>\n      <td>30</td>\n      <td>http://static-media.fxx.com/img/FX_Networks_-_...</td>\n      <td>7.6</td>\n      <td>1243.0</td>\n      <td>17</td>\n      <td>30</td>\n      <td>1991-03-28</td>\n      <td>1991</td>\n      <td>7F17</td>\n      <td>2</td>\n      <td>Old Money</td>\n      <td>21.2</td>\n      <td>http://www.simpsonsworld.com/video/263504963955</td>\n      <td>44331.0</td>\n    </tr>\n  </tbody>\n</table>\n</div>"
     },
     "execution_count": 8,
     "metadata": {},
     "output_type": "execute_result"
    }
   ],
   "source": [
    "episodes_df.head(10)"
   ],
   "metadata": {
    "collapsed": false,
    "pycharm": {
     "name": "#%%\n"
    }
   }
  }
 ],
 "metadata": {
  "kernelspec": {
   "display_name": "Python 3",
   "language": "python",
   "name": "python3"
  },
  "language_info": {
   "codemirror_mode": {
    "name": "ipython",
    "version": 2
   },
   "file_extension": ".py",
   "mimetype": "text/x-python",
   "name": "python",
   "nbconvert_exporter": "python",
   "pygments_lexer": "ipython2",
   "version": "2.7.6"
  }
 },
 "nbformat": 4,
 "nbformat_minor": 0
}